import numpy as np
import matplotlib.pyplot as plt

x = np.array([1, 2, 2, 10, 2, 2, 1])
n = np.arange(len(x))

 
a_values = [0.1, 0.5, 0.9]
y_outputs = {}


# Compute y[n]
for a in a_values:
    y = np.zeros_like(x, dtype=float)
    for i in range(1, len(x)):
        y[i] = (1 - a) * y[i - 1] + a * x[i]
    y_outputs[a] = y


    plt.figure(figsize=(10, 6))
plt.plot(n, x, 'ko--', label='Input x[n] original', linewidth=2)

for a, y in y_outputs.items():
    plt.plot(n, y,'o-', label=f'y[n] (a = {a})', linewidth=2)

    
plt.title('Low pass filter')
plt.xlabel('n')
plt.ylabel('Value')
plt.grid(True)
plt.legend()
plt.tight_layout()
plt.show()
