import numpy as np
import matplotlib.pyplot as plt

fs = 100
f = 5                
duration = 2       
a = 0.1             
noise_level = 0.1


t = np.linspace(0, duration, int(fs * duration), endpoint=False)


x_clean = np.sin(2 * np.pi * f * t)


x_noisy = x_clean + np.random.normal(0, noise_level, size=t.shape)


y = np.zeros_like(x_noisy)
y[0] = x_noisy[0]  

for i in range(1, len(x_noisy)):
    y[i] = (1 - a) * y[i - 1] + a * x_noisy[i]


plt.figure(figsize=(12, 6))
plt.plot(t, x_clean, label='Clean Sine Wave', alpha=0.5)
plt.plot(t, x_noisy, label='Noisy Sine Wave', alpha=0.5)
plt.plot(t, y, label='Filtered Signal (Low-pass)', linewidth=2)
plt.legend()
plt.xlabel('Time (s)')
plt.ylabel('Amplitude')
plt.title('Low-pass Filter on Noisy Sine Wave')
plt.grid(True)
plt.tight_layout()
plt.show()
